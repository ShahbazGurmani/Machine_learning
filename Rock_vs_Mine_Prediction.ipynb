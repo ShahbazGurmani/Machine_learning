{
  "nbformat": 4,
  "nbformat_minor": 0,
  "metadata": {
    "colab": {
      "provenance": [],
      "authorship_tag": "ABX9TyPsj3ep0EMgC83Qo4dBvwyl",
      "include_colab_link": true
    },
    "kernelspec": {
      "name": "python3",
      "display_name": "Python 3"
    },
    "language_info": {
      "name": "python"
    }
  },
  "cells": [
    {
      "cell_type": "markdown",
      "metadata": {
        "id": "view-in-github",
        "colab_type": "text"
      },
      "source": [
        "<a href=\"https://colab.research.google.com/github/ShahbazGurmani/Machine_learning/blob/main/Rock_vs_Mine_Prediction.ipynb\" target=\"_parent\"><img src=\"https://colab.research.google.com/assets/colab-badge.svg\" alt=\"Open In Colab\"/></a>"
      ]
    },
    {
      "cell_type": "markdown",
      "source": [
        "Importing dependencies"
      ],
      "metadata": {
        "id": "S7cFT1xuGE-g"
      }
    },
    {
      "cell_type": "code",
      "source": [
        "import numpy as np\n",
        "import pandas as pd\n",
        "from sklearn.model_selection import train_test_split\n",
        "from sklearn.linear_model import LogisticRegression\n",
        "from sklearn.metrics import accuracy_score\n"
      ],
      "metadata": {
        "id": "81wK_KgMGEHV"
      },
      "execution_count": 43,
      "outputs": []
    },
    {
      "cell_type": "markdown",
      "source": [
        "Data colecting from the file and process"
      ],
      "metadata": {
        "id": "BjnOrN_wJDID"
      }
    },
    {
      "cell_type": "code",
      "execution_count": 2,
      "metadata": {
        "id": "G07CYjHKFa-8"
      },
      "outputs": [],
      "source": [
        "#loading dataset into the pandas dataframe\n",
        "sonar_data = pd.read_csv('/content/sonar data.csv', header=None)"
      ]
    },
    {
      "cell_type": "code",
      "source": [
        "#this function show by default 5 number of rows and column\n",
        "sonar_data.head()"
      ],
      "metadata": {
        "id": "ILi4yX52KFAM"
      },
      "execution_count": null,
      "outputs": []
    },
    {
      "cell_type": "code",
      "source": [
        "#find the number of rows and column of dataset\n",
        "sonar_data.shape"
      ],
      "metadata": {
        "id": "K6rEnGxGKZhp"
      },
      "execution_count": null,
      "outputs": []
    },
    {
      "cell_type": "code",
      "source": [
        "#statistical measure of data through function\n",
        "sonar_data.describe()"
      ],
      "metadata": {
        "id": "xOzQb2tvLSHc"
      },
      "execution_count": null,
      "outputs": []
    },
    {
      "cell_type": "code",
      "source": [
        "#from the data set count how many sonar and how many number of rocks in this data set\n",
        "sonar_data[60].value_counts()"
      ],
      "metadata": {
        "id": "GZyMlT4KNmA0"
      },
      "execution_count": null,
      "outputs": []
    },
    {
      "cell_type": "markdown",
      "source": [
        "M --> represent mines\n",
        "R --> represent Rocks"
      ],
      "metadata": {
        "id": "KvizkZocQW9V"
      }
    },
    {
      "cell_type": "code",
      "source": [
        "#find the mean of 60 columns then we see the flecuation btw the values\n",
        "sonar_data.groupby(60).mean()"
      ],
      "metadata": {
        "id": "jll8ZQavPME-"
      },
      "execution_count": null,
      "outputs": []
    },
    {
      "cell_type": "code",
      "source": [
        "#seprates data values and label which exsist in last colum\n",
        "X = sonar_data.drop(columns=60,axis=1)\n",
        "Y = sonar_data[60]"
      ],
      "metadata": {
        "id": "G4f2e68iQyNf"
      },
      "execution_count": 21,
      "outputs": []
    },
    {
      "cell_type": "code",
      "source": [
        "print(X)\n",
        "print(Y)"
      ],
      "metadata": {
        "id": "lf6LBm4tRvzL"
      },
      "execution_count": null,
      "outputs": []
    },
    {
      "cell_type": "markdown",
      "source": [
        "Train And Test Data\n"
      ],
      "metadata": {
        "id": "0sHOHS1GTzu8"
      }
    },
    {
      "cell_type": "code",
      "source": [
        "X_train , X_test, Y_train, Y_test = train_test_split(X,Y,test_size=0.1,stratify=Y,random_state=3)"
      ],
      "metadata": {
        "id": "EE2AInRoR1KM"
      },
      "execution_count": 34,
      "outputs": []
    },
    {
      "cell_type": "code",
      "source": [
        "print(X.shape,X_train.shape,X_test.shape)"
      ],
      "metadata": {
        "id": "zVcgmKWTVHcb"
      },
      "execution_count": null,
      "outputs": []
    },
    {
      "cell_type": "code",
      "source": [
        "print(X_train)\n",
        "print(Y_train)"
      ],
      "metadata": {
        "id": "2czaw7hcVYbo"
      },
      "execution_count": null,
      "outputs": []
    },
    {
      "cell_type": "markdown",
      "source": [
        "Train Model"
      ],
      "metadata": {
        "id": "-Onp5bUhYY-7"
      }
    },
    {
      "cell_type": "code",
      "source": [
        "#train model for this data collecting from train set (logistic regression)\n",
        "model=LogisticRegression()\n"
      ],
      "metadata": {
        "id": "LvTvPJaIXuu7"
      },
      "execution_count": 44,
      "outputs": []
    },
    {
      "cell_type": "code",
      "source": [
        "model.fit(X_train,Y_train)"
      ],
      "metadata": {
        "id": "AkOXXJQzYIt0"
      },
      "execution_count": null,
      "outputs": []
    },
    {
      "cell_type": "markdown",
      "source": [
        "Model evulation"
      ],
      "metadata": {
        "id": "abzmJDWtaNDT"
      }
    },
    {
      "cell_type": "code",
      "source": [
        "#find the accuracy of training data set\n",
        "X_train_prediction = model.predict(X_train);\n",
        "trainig_data_accuracy = accuracy_score(X_train_prediction,Y_train)\n",
        "\n"
      ],
      "metadata": {
        "id": "xlulwbBnaI3p"
      },
      "execution_count": 48,
      "outputs": []
    },
    {
      "cell_type": "code",
      "source": [
        "print(\"Accuracy score on training data is = \", trainig_data_accuracy)"
      ],
      "metadata": {
        "colab": {
          "base_uri": "https://localhost:8080/"
        },
        "id": "JK6poAMjbTyH",
        "outputId": "af9da070-0a28-47f2-a9e3-de5d0a51e7c4"
      },
      "execution_count": 50,
      "outputs": [
        {
          "output_type": "stream",
          "name": "stdout",
          "text": [
            "Accuracy score on training data is =  0.8502673796791443\n"
          ]
        }
      ]
    },
    {
      "cell_type": "code",
      "source": [
        "#find the accuracy of test data set\n",
        "X_test_prediction = model.predict(X_test);\n",
        "test_data_accuracy = accuracy_score(X_test_prediction,Y_test)"
      ],
      "metadata": {
        "id": "2QtQ5tAiblTD"
      },
      "execution_count": 51,
      "outputs": []
    },
    {
      "cell_type": "code",
      "source": [
        "print(\"Accouracy on test data set is = \",test_data_accuracy)"
      ],
      "metadata": {
        "colab": {
          "base_uri": "https://localhost:8080/"
        },
        "id": "guYrEa2Jby_h",
        "outputId": "8835741d-4c8d-4b8a-c9f2-084780d84452"
      },
      "execution_count": 52,
      "outputs": [
        {
          "output_type": "stream",
          "name": "stdout",
          "text": [
            "Accouracy on test data set is =  0.6190476190476191\n"
          ]
        }
      ]
    },
    {
      "cell_type": "markdown",
      "source": [
        "Making a prediction system"
      ],
      "metadata": {
        "id": "3Gj1GjOEchyS"
      }
    },
    {
      "cell_type": "code",
      "source": [
        "data_input = (0.1083,0.1070,0.0257,0.0837,0.0748,0.1125,0.3322,0.4590,0.5526,0.5966,0.5304,0.2251,0.2402,0.2689,0.6646,0.6632,0.1674,0.0837,0.4331,0.8718,0.7992,0.3712,0.1703,0.1611,0.2086,0.2847,0.2211,0.6134,0.5807,0.6925,0.3825,0.4303,0.7791,0.8703,1.0000,0.9212,0.9386,0.9303,0.7314,0.4791,0.2087,0.2016,0.1669,0.2872,0.4374,0.3097,0.1578,0.0553,0.0334,0.0209,0.0172,0.0180,0.0110,0.0234,0.0276,0.0032,0.0084,0.0122,0.0082,0.0143)\n",
        "#changing data into numpy array\n",
        "data_input_as_numpy_array = np.asarray(data_input)\n",
        "#reshape ny array we are predict for one instance\n",
        "data_input_reshape = data_input_as_numpy_array.reshape(1,-1)\n",
        "\n",
        "\n",
        "prediction = model.predict(data_input_reshape)\n",
        "print(prediction)\n",
        "if(prediction[0]=='R'):\n",
        "  print(\"This Object is Rock\")\n",
        "else:\n",
        "  print(\"This Object is Mine\")\n",
        "\n",
        "\n"
      ],
      "metadata": {
        "colab": {
          "base_uri": "https://localhost:8080/"
        },
        "id": "Gh3S6B8Wb7YI",
        "outputId": "57612fca-0c8c-44d7-d7da-066d494fd5be"
      },
      "execution_count": 56,
      "outputs": [
        {
          "output_type": "stream",
          "name": "stdout",
          "text": [
            "['M']\n",
            "This Object is Mine\n"
          ]
        }
      ]
    },
    {
      "cell_type": "code",
      "source": [],
      "metadata": {
        "id": "1F8Go85GekgH"
      },
      "execution_count": null,
      "outputs": []
    }
  ]
}